{
 "cells": [
  {
   "cell_type": "code",
   "execution_count": 7,
   "metadata": {},
   "outputs": [],
   "source": [
    "import pandas as pd\n",
    "import matplotlib.pyplot as plt\n",
    "import dash\n",
    "import plotly.express as px"
   ]
  },
  {
   "cell_type": "code",
   "execution_count": null,
   "metadata": {},
   "outputs": [],
   "source": [
    "from dotenv import load_dotenv\n",
    "import os\n",
    "\n",
    "load_dotenv()\n",
    "\n",
    "DATASET_PATH = os.getenv(\"DATASET_PATH\")"
   ]
  },
  {
   "cell_type": "code",
   "execution_count": 8,
   "metadata": {},
   "outputs": [
    {
     "data": {
      "text/html": [
       "<div>\n",
       "<style scoped>\n",
       "    .dataframe tbody tr th:only-of-type {\n",
       "        vertical-align: middle;\n",
       "    }\n",
       "\n",
       "    .dataframe tbody tr th {\n",
       "        vertical-align: top;\n",
       "    }\n",
       "\n",
       "    .dataframe thead th {\n",
       "        text-align: right;\n",
       "    }\n",
       "</style>\n",
       "<table border=\"1\" class=\"dataframe\">\n",
       "  <thead>\n",
       "    <tr style=\"text-align: right;\">\n",
       "      <th></th>\n",
       "      <th>publication_url</th>\n",
       "      <th>author</th>\n",
       "      <th>date</th>\n",
       "      <th>reading_time</th>\n",
       "      <th>post_url</th>\n",
       "      <th>title</th>\n",
       "      <th>preview_image_url</th>\n",
       "      <th>claps</th>\n",
       "    </tr>\n",
       "  </thead>\n",
       "  <tbody>\n",
       "    <tr>\n",
       "      <th>198</th>\n",
       "      <td>https://python.plainenglish.io/</td>\n",
       "      <td>Liu Zuo Lin</td>\n",
       "      <td>2022-10-15</td>\n",
       "      <td>3 min</td>\n",
       "      <td>https://python.plainenglish.io/how-to-run-back...</td>\n",
       "      <td>How To Run Background Tasks In FastAPI (Python)</td>\n",
       "      <td>https://cdn-images-1.medium.com/fit/t/1600/480...</td>\n",
       "      <td>101</td>\n",
       "    </tr>\n",
       "    <tr>\n",
       "      <th>55</th>\n",
       "      <td>https://medium.com/swlh</td>\n",
       "      <td>Zulie Rane</td>\n",
       "      <td>2022-10-25</td>\n",
       "      <td>6 min</td>\n",
       "      <td>https://medium.com/swlh/4-ways-ive-quietly-mad...</td>\n",
       "      <td>4 Ways I’ve Quietly Made $1,000+</td>\n",
       "      <td>https://cdn-images-1.medium.com/fit/t/1600/480...</td>\n",
       "      <td>11.3K</td>\n",
       "    </tr>\n",
       "    <tr>\n",
       "      <th>134</th>\n",
       "      <td>https://levelup.gitconnected.com/</td>\n",
       "      <td>Jacob Ferus</td>\n",
       "      <td>2022-12-01</td>\n",
       "      <td>4 min</td>\n",
       "      <td>https://levelup.gitconnected.com/chatgpt-is-mi...</td>\n",
       "      <td>ChatGPT Is Mind-Blowing — Everything You Need ...</td>\n",
       "      <td>https://cdn-images-1.medium.com/fit/t/1600/480...</td>\n",
       "      <td>1K</td>\n",
       "    </tr>\n",
       "    <tr>\n",
       "      <th>182</th>\n",
       "      <td>https://python.plainenglish.io/</td>\n",
       "      <td>Edoardo Bianchi</td>\n",
       "      <td>2022-11-15</td>\n",
       "      <td>10 min</td>\n",
       "      <td>https://python.plainenglish.io/i-fine-tuned-gp...</td>\n",
       "      <td>I Fine-Tuned GPT-2 on 100K Scientific Papers. ...</td>\n",
       "      <td>https://cdn-images-1.medium.com/fit/t/1600/480...</td>\n",
       "      <td>674</td>\n",
       "    </tr>\n",
       "    <tr>\n",
       "      <th>76</th>\n",
       "      <td>https://humanparts.medium.com/</td>\n",
       "      <td>Jacqueline Dooley</td>\n",
       "      <td>2022-12-14</td>\n",
       "      <td>5 min</td>\n",
       "      <td>https://humanparts.medium.com/2022-in-one-word...</td>\n",
       "      <td>2022 in One Word: Menopause</td>\n",
       "      <td>https://cdn-images-1.medium.com/fit/t/1600/480...</td>\n",
       "      <td>2.2K</td>\n",
       "    </tr>\n",
       "  </tbody>\n",
       "</table>\n",
       "</div>"
      ],
      "text/plain": [
       "                       publication_url             author        date  \\\n",
       "198    https://python.plainenglish.io/        Liu Zuo Lin  2022-10-15   \n",
       "55             https://medium.com/swlh         Zulie Rane  2022-10-25   \n",
       "134  https://levelup.gitconnected.com/        Jacob Ferus  2022-12-01   \n",
       "182    https://python.plainenglish.io/    Edoardo Bianchi  2022-11-15   \n",
       "76      https://humanparts.medium.com/  Jacqueline Dooley  2022-12-14   \n",
       "\n",
       "    reading_time                                           post_url  \\\n",
       "198        3 min  https://python.plainenglish.io/how-to-run-back...   \n",
       "55         6 min  https://medium.com/swlh/4-ways-ive-quietly-mad...   \n",
       "134        4 min  https://levelup.gitconnected.com/chatgpt-is-mi...   \n",
       "182       10 min  https://python.plainenglish.io/i-fine-tuned-gp...   \n",
       "76         5 min  https://humanparts.medium.com/2022-in-one-word...   \n",
       "\n",
       "                                                 title  \\\n",
       "198    How To Run Background Tasks In FastAPI (Python)   \n",
       "55                    4 Ways I’ve Quietly Made $1,000+   \n",
       "134  ChatGPT Is Mind-Blowing — Everything You Need ...   \n",
       "182  I Fine-Tuned GPT-2 on 100K Scientific Papers. ...   \n",
       "76                         2022 in One Word: Menopause   \n",
       "\n",
       "                                     preview_image_url  claps  \n",
       "198  https://cdn-images-1.medium.com/fit/t/1600/480...    101  \n",
       "55   https://cdn-images-1.medium.com/fit/t/1600/480...  11.3K  \n",
       "134  https://cdn-images-1.medium.com/fit/t/1600/480...     1K  \n",
       "182  https://cdn-images-1.medium.com/fit/t/1600/480...    674  \n",
       "76   https://cdn-images-1.medium.com/fit/t/1600/480...   2.2K  "
      ]
     },
     "execution_count": 8,
     "metadata": {},
     "output_type": "execute_result"
    }
   ],
   "source": [
    "dataset = pd.read_csv(\"dataset.csv\")\n",
    "dataset.sample(5)"
   ]
  },
  {
   "cell_type": "code",
   "execution_count": 47,
   "metadata": {},
   "outputs": [
    {
     "data": {
      "text/html": [
       "<div>\n",
       "<style scoped>\n",
       "    .dataframe tbody tr th:only-of-type {\n",
       "        vertical-align: middle;\n",
       "    }\n",
       "\n",
       "    .dataframe tbody tr th {\n",
       "        vertical-align: top;\n",
       "    }\n",
       "\n",
       "    .dataframe thead th {\n",
       "        text-align: right;\n",
       "    }\n",
       "</style>\n",
       "<table border=\"1\" class=\"dataframe\">\n",
       "  <thead>\n",
       "    <tr style=\"text-align: right;\">\n",
       "      <th></th>\n",
       "      <th>publication_url</th>\n",
       "      <th>author</th>\n",
       "      <th>date</th>\n",
       "      <th>reading_time</th>\n",
       "      <th>post_url</th>\n",
       "      <th>title</th>\n",
       "      <th>preview_image_url</th>\n",
       "      <th>claps</th>\n",
       "      <th>month</th>\n",
       "      <th>day</th>\n",
       "      <th>year</th>\n",
       "    </tr>\n",
       "  </thead>\n",
       "  <tbody>\n",
       "    <tr>\n",
       "      <th>188</th>\n",
       "      <td>https://python.plainenglish.io/</td>\n",
       "      <td>Haider Imtiaz</td>\n",
       "      <td>2022-11-10</td>\n",
       "      <td>8</td>\n",
       "      <td>https://python.plainenglish.io/10-python-scrip...</td>\n",
       "      <td>10 Python Scripts for Daily Automation</td>\n",
       "      <td>https://cdn-images-1.medium.com/fit/t/1600/480...</td>\n",
       "      <td>37.0</td>\n",
       "      <td>11</td>\n",
       "      <td>10</td>\n",
       "      <td>2022</td>\n",
       "    </tr>\n",
       "    <tr>\n",
       "      <th>116</th>\n",
       "      <td>https://medium.com/geekculture</td>\n",
       "      <td>Kostas Farkonas</td>\n",
       "      <td>2022-10-05</td>\n",
       "      <td>7</td>\n",
       "      <td>https://medium.com/geekculture/samsungs-new-sm...</td>\n",
       "      <td>Samsung’s new smartphone battery issue is pure...</td>\n",
       "      <td>https://cdn-images-1.medium.com/fit/t/1600/480...</td>\n",
       "      <td>237.0</td>\n",
       "      <td>10</td>\n",
       "      <td>5</td>\n",
       "      <td>2022</td>\n",
       "    </tr>\n",
       "    <tr>\n",
       "      <th>85</th>\n",
       "      <td>https://humanparts.medium.com/</td>\n",
       "      <td>Anton Kutselyk</td>\n",
       "      <td>2022-10-29</td>\n",
       "      <td>5</td>\n",
       "      <td>https://humanparts.medium.com/i-just-need-a-sl...</td>\n",
       "      <td>The anti-routine of a slow Saturday</td>\n",
       "      <td>https://cdn-images-1.medium.com/max/360/1*EGtu...</td>\n",
       "      <td>732.0</td>\n",
       "      <td>10</td>\n",
       "      <td>29</td>\n",
       "      <td>2022</td>\n",
       "    </tr>\n",
       "    <tr>\n",
       "      <th>166</th>\n",
       "      <td>https://levelup.gitconnected.com/</td>\n",
       "      <td>Imran Farooq</td>\n",
       "      <td>2022-09-27</td>\n",
       "      <td>2</td>\n",
       "      <td>https://levelup.gitconnected.com/react-best-pr...</td>\n",
       "      <td>React Best Practices for Software Design and A...</td>\n",
       "      <td>https://cdn-images-1.medium.com/fit/t/1600/480...</td>\n",
       "      <td>798.0</td>\n",
       "      <td>9</td>\n",
       "      <td>27</td>\n",
       "      <td>2022</td>\n",
       "    </tr>\n",
       "    <tr>\n",
       "      <th>206</th>\n",
       "      <td>https://python.plainenglish.io/</td>\n",
       "      <td>Liu Zuo Lin</td>\n",
       "      <td>2022-09-06</td>\n",
       "      <td>4</td>\n",
       "      <td>https://python.plainenglish.io/10-levels-of-wr...</td>\n",
       "      <td>10 Levels of Writing Python Functions</td>\n",
       "      <td>https://cdn-images-1.medium.com/fit/t/1600/480...</td>\n",
       "      <td>414.0</td>\n",
       "      <td>9</td>\n",
       "      <td>6</td>\n",
       "      <td>2022</td>\n",
       "    </tr>\n",
       "  </tbody>\n",
       "</table>\n",
       "</div>"
      ],
      "text/plain": [
       "                       publication_url           author       date  \\\n",
       "188    https://python.plainenglish.io/    Haider Imtiaz 2022-11-10   \n",
       "116     https://medium.com/geekculture  Kostas Farkonas 2022-10-05   \n",
       "85      https://humanparts.medium.com/   Anton Kutselyk 2022-10-29   \n",
       "166  https://levelup.gitconnected.com/     Imran Farooq 2022-09-27   \n",
       "206    https://python.plainenglish.io/      Liu Zuo Lin 2022-09-06   \n",
       "\n",
       "     reading_time                                           post_url  \\\n",
       "188             8  https://python.plainenglish.io/10-python-scrip...   \n",
       "116             7  https://medium.com/geekculture/samsungs-new-sm...   \n",
       "85              5  https://humanparts.medium.com/i-just-need-a-sl...   \n",
       "166             2  https://levelup.gitconnected.com/react-best-pr...   \n",
       "206             4  https://python.plainenglish.io/10-levels-of-wr...   \n",
       "\n",
       "                                                 title  \\\n",
       "188             10 Python Scripts for Daily Automation   \n",
       "116  Samsung’s new smartphone battery issue is pure...   \n",
       "85                 The anti-routine of a slow Saturday   \n",
       "166  React Best Practices for Software Design and A...   \n",
       "206              10 Levels of Writing Python Functions   \n",
       "\n",
       "                                     preview_image_url  claps  month  day  \\\n",
       "188  https://cdn-images-1.medium.com/fit/t/1600/480...   37.0     11   10   \n",
       "116  https://cdn-images-1.medium.com/fit/t/1600/480...  237.0     10    5   \n",
       "85   https://cdn-images-1.medium.com/max/360/1*EGtu...  732.0     10   29   \n",
       "166  https://cdn-images-1.medium.com/fit/t/1600/480...  798.0      9   27   \n",
       "206  https://cdn-images-1.medium.com/fit/t/1600/480...  414.0      9    6   \n",
       "\n",
       "     year  \n",
       "188  2022  \n",
       "116  2022  \n",
       "85   2022  \n",
       "166  2022  \n",
       "206  2022  "
      ]
     },
     "execution_count": 47,
     "metadata": {},
     "output_type": "execute_result"
    }
   ],
   "source": [
    "# preprocessing\n",
    "df = dataset.copy()\n",
    "\n",
    "# convert reading_time to integer by removing the `min` part\n",
    "df[\"reading_time\"] = df[\"reading_time\"].apply(lambda entry: int(entry.split()[0]))\n",
    "# convert claps to float by removing the `K`s and multiply the value by 1000\n",
    "df[\"claps\"] = df[\"claps\"].apply(lambda x: float(x) if not \"K\" in x else float(x[:-1]) * 1000)\n",
    "# map the date to datetime object and split the date to 3 columns\n",
    "df[\"date\"] = pd.to_datetime(df[\"date\"])\n",
    "df[\"month\"] = df[\"date\"].apply(lambda x: x.month)\n",
    "df[\"day\"] = df[\"date\"].apply(lambda x: x.day)\n",
    "df[\"year\"] = df[\"date\"].apply(lambda x: x.year)\n",
    "\n",
    "df.sample(5)"
   ]
  },
  {
   "cell_type": "code",
   "execution_count": 74,
   "metadata": {},
   "outputs": [],
   "source": [
    "processed_df = df.copy()\n",
    "processed_df.drop(columns=[\"post_url\", \"preview_image_url\", \"month\", \"day\", \"year\"], inplace=True)\n",
    "processed_df.to_csv(\"processed_dataset.csv\", index=False)"
   ]
  },
  {
   "cell_type": "code",
   "execution_count": 66,
   "metadata": {},
   "outputs": [
    {
     "data": {
      "application/vnd.plotly.v1+json": {
       "config": {
        "plotlyServerURL": "https://plot.ly"
       },
       "data": [
        {
         "hovertemplate": "publication_url=https://medium.com/swlh<br>date=%{x}<br>claps=%{y}<extra></extra>",
         "legendgroup": "https://medium.com/swlh",
         "marker": {
          "color": "#636efa",
          "symbol": "circle"
         },
         "mode": "markers",
         "name": "https://medium.com/swlh",
         "orientation": "v",
         "showlegend": true,
         "type": "scatter",
         "x": [
          "2022-12-08T00:00:00",
          "2022-12-01T00:00:00",
          "2022-12-15T00:00:00",
          "2022-12-06T00:00:00",
          "2022-12-07T00:00:00",
          "2022-11-01T00:00:00",
          "2022-11-15T00:00:00",
          "2022-11-18T00:00:00",
          "2022-11-08T00:00:00",
          "2022-11-29T00:00:00",
          "2022-11-22T00:00:00",
          "2022-11-23T00:00:00",
          "2022-11-04T00:00:00",
          "2022-10-13T00:00:00",
          "2022-10-26T00:00:00",
          "2022-10-08T00:00:00",
          "2022-10-16T00:00:00",
          "2022-10-25T00:00:00",
          "2022-10-11T00:00:00",
          "2022-09-15T00:00:00",
          "2022-09-09T00:00:00",
          "2022-09-29T00:00:00",
          "2022-09-22T00:00:00",
          "2022-09-16T00:00:00"
         ],
         "xaxis": "x",
         "y": [
          4500,
          1700,
          2000,
          2300,
          870,
          5400,
          3200,
          4000,
          3000,
          2000,
          1300,
          1970,
          1300,
          7600,
          2800,
          3800,
          3200,
          6400,
          3100,
          6200,
          1700,
          1700,
          2200,
          1400
         ],
         "yaxis": "y"
        },
        {
         "hovertemplate": "publication_url=https://entrepreneurshandbook.co/<br>date=%{x}<br>claps=%{y}<extra></extra>",
         "legendgroup": "https://entrepreneurshandbook.co/",
         "marker": {
          "color": "#EF553B",
          "symbol": "circle"
         },
         "mode": "markers",
         "name": "https://entrepreneurshandbook.co/",
         "orientation": "v",
         "showlegend": true,
         "type": "scatter",
         "x": [
          "2022-12-14T00:00:00",
          "2022-11-08T00:00:00",
          "2022-11-02T00:00:00",
          "2022-11-17T00:00:00",
          "2022-11-11T00:00:00",
          "2022-11-28T00:00:00",
          "2022-10-27T00:00:00",
          "2022-09-27T00:00:00",
          "2022-09-01T00:00:00",
          "2022-09-16T00:00:00"
         ],
         "xaxis": "x",
         "y": [
          664,
          3400,
          6400,
          1600,
          1910,
          1300,
          1300,
          3400,
          4300,
          2500
         ],
         "yaxis": "y"
        }
       ],
       "layout": {
        "legend": {
         "title": {
          "text": "publication_url"
         },
         "tracegroupgap": 0
        },
        "margin": {
         "t": 60
        },
        "template": {
         "data": {
          "bar": [
           {
            "error_x": {
             "color": "#2a3f5f"
            },
            "error_y": {
             "color": "#2a3f5f"
            },
            "marker": {
             "line": {
              "color": "#E5ECF6",
              "width": 0.5
             },
             "pattern": {
              "fillmode": "overlay",
              "size": 10,
              "solidity": 0.2
             }
            },
            "type": "bar"
           }
          ],
          "barpolar": [
           {
            "marker": {
             "line": {
              "color": "#E5ECF6",
              "width": 0.5
             },
             "pattern": {
              "fillmode": "overlay",
              "size": 10,
              "solidity": 0.2
             }
            },
            "type": "barpolar"
           }
          ],
          "carpet": [
           {
            "aaxis": {
             "endlinecolor": "#2a3f5f",
             "gridcolor": "white",
             "linecolor": "white",
             "minorgridcolor": "white",
             "startlinecolor": "#2a3f5f"
            },
            "baxis": {
             "endlinecolor": "#2a3f5f",
             "gridcolor": "white",
             "linecolor": "white",
             "minorgridcolor": "white",
             "startlinecolor": "#2a3f5f"
            },
            "type": "carpet"
           }
          ],
          "choropleth": [
           {
            "colorbar": {
             "outlinewidth": 0,
             "ticks": ""
            },
            "type": "choropleth"
           }
          ],
          "contour": [
           {
            "colorbar": {
             "outlinewidth": 0,
             "ticks": ""
            },
            "colorscale": [
             [
              0,
              "#0d0887"
             ],
             [
              0.1111111111111111,
              "#46039f"
             ],
             [
              0.2222222222222222,
              "#7201a8"
             ],
             [
              0.3333333333333333,
              "#9c179e"
             ],
             [
              0.4444444444444444,
              "#bd3786"
             ],
             [
              0.5555555555555556,
              "#d8576b"
             ],
             [
              0.6666666666666666,
              "#ed7953"
             ],
             [
              0.7777777777777778,
              "#fb9f3a"
             ],
             [
              0.8888888888888888,
              "#fdca26"
             ],
             [
              1,
              "#f0f921"
             ]
            ],
            "type": "contour"
           }
          ],
          "contourcarpet": [
           {
            "colorbar": {
             "outlinewidth": 0,
             "ticks": ""
            },
            "type": "contourcarpet"
           }
          ],
          "heatmap": [
           {
            "colorbar": {
             "outlinewidth": 0,
             "ticks": ""
            },
            "colorscale": [
             [
              0,
              "#0d0887"
             ],
             [
              0.1111111111111111,
              "#46039f"
             ],
             [
              0.2222222222222222,
              "#7201a8"
             ],
             [
              0.3333333333333333,
              "#9c179e"
             ],
             [
              0.4444444444444444,
              "#bd3786"
             ],
             [
              0.5555555555555556,
              "#d8576b"
             ],
             [
              0.6666666666666666,
              "#ed7953"
             ],
             [
              0.7777777777777778,
              "#fb9f3a"
             ],
             [
              0.8888888888888888,
              "#fdca26"
             ],
             [
              1,
              "#f0f921"
             ]
            ],
            "type": "heatmap"
           }
          ],
          "heatmapgl": [
           {
            "colorbar": {
             "outlinewidth": 0,
             "ticks": ""
            },
            "colorscale": [
             [
              0,
              "#0d0887"
             ],
             [
              0.1111111111111111,
              "#46039f"
             ],
             [
              0.2222222222222222,
              "#7201a8"
             ],
             [
              0.3333333333333333,
              "#9c179e"
             ],
             [
              0.4444444444444444,
              "#bd3786"
             ],
             [
              0.5555555555555556,
              "#d8576b"
             ],
             [
              0.6666666666666666,
              "#ed7953"
             ],
             [
              0.7777777777777778,
              "#fb9f3a"
             ],
             [
              0.8888888888888888,
              "#fdca26"
             ],
             [
              1,
              "#f0f921"
             ]
            ],
            "type": "heatmapgl"
           }
          ],
          "histogram": [
           {
            "marker": {
             "pattern": {
              "fillmode": "overlay",
              "size": 10,
              "solidity": 0.2
             }
            },
            "type": "histogram"
           }
          ],
          "histogram2d": [
           {
            "colorbar": {
             "outlinewidth": 0,
             "ticks": ""
            },
            "colorscale": [
             [
              0,
              "#0d0887"
             ],
             [
              0.1111111111111111,
              "#46039f"
             ],
             [
              0.2222222222222222,
              "#7201a8"
             ],
             [
              0.3333333333333333,
              "#9c179e"
             ],
             [
              0.4444444444444444,
              "#bd3786"
             ],
             [
              0.5555555555555556,
              "#d8576b"
             ],
             [
              0.6666666666666666,
              "#ed7953"
             ],
             [
              0.7777777777777778,
              "#fb9f3a"
             ],
             [
              0.8888888888888888,
              "#fdca26"
             ],
             [
              1,
              "#f0f921"
             ]
            ],
            "type": "histogram2d"
           }
          ],
          "histogram2dcontour": [
           {
            "colorbar": {
             "outlinewidth": 0,
             "ticks": ""
            },
            "colorscale": [
             [
              0,
              "#0d0887"
             ],
             [
              0.1111111111111111,
              "#46039f"
             ],
             [
              0.2222222222222222,
              "#7201a8"
             ],
             [
              0.3333333333333333,
              "#9c179e"
             ],
             [
              0.4444444444444444,
              "#bd3786"
             ],
             [
              0.5555555555555556,
              "#d8576b"
             ],
             [
              0.6666666666666666,
              "#ed7953"
             ],
             [
              0.7777777777777778,
              "#fb9f3a"
             ],
             [
              0.8888888888888888,
              "#fdca26"
             ],
             [
              1,
              "#f0f921"
             ]
            ],
            "type": "histogram2dcontour"
           }
          ],
          "mesh3d": [
           {
            "colorbar": {
             "outlinewidth": 0,
             "ticks": ""
            },
            "type": "mesh3d"
           }
          ],
          "parcoords": [
           {
            "line": {
             "colorbar": {
              "outlinewidth": 0,
              "ticks": ""
             }
            },
            "type": "parcoords"
           }
          ],
          "pie": [
           {
            "automargin": true,
            "type": "pie"
           }
          ],
          "scatter": [
           {
            "fillpattern": {
             "fillmode": "overlay",
             "size": 10,
             "solidity": 0.2
            },
            "type": "scatter"
           }
          ],
          "scatter3d": [
           {
            "line": {
             "colorbar": {
              "outlinewidth": 0,
              "ticks": ""
             }
            },
            "marker": {
             "colorbar": {
              "outlinewidth": 0,
              "ticks": ""
             }
            },
            "type": "scatter3d"
           }
          ],
          "scattercarpet": [
           {
            "marker": {
             "colorbar": {
              "outlinewidth": 0,
              "ticks": ""
             }
            },
            "type": "scattercarpet"
           }
          ],
          "scattergeo": [
           {
            "marker": {
             "colorbar": {
              "outlinewidth": 0,
              "ticks": ""
             }
            },
            "type": "scattergeo"
           }
          ],
          "scattergl": [
           {
            "marker": {
             "colorbar": {
              "outlinewidth": 0,
              "ticks": ""
             }
            },
            "type": "scattergl"
           }
          ],
          "scattermapbox": [
           {
            "marker": {
             "colorbar": {
              "outlinewidth": 0,
              "ticks": ""
             }
            },
            "type": "scattermapbox"
           }
          ],
          "scatterpolar": [
           {
            "marker": {
             "colorbar": {
              "outlinewidth": 0,
              "ticks": ""
             }
            },
            "type": "scatterpolar"
           }
          ],
          "scatterpolargl": [
           {
            "marker": {
             "colorbar": {
              "outlinewidth": 0,
              "ticks": ""
             }
            },
            "type": "scatterpolargl"
           }
          ],
          "scatterternary": [
           {
            "marker": {
             "colorbar": {
              "outlinewidth": 0,
              "ticks": ""
             }
            },
            "type": "scatterternary"
           }
          ],
          "surface": [
           {
            "colorbar": {
             "outlinewidth": 0,
             "ticks": ""
            },
            "colorscale": [
             [
              0,
              "#0d0887"
             ],
             [
              0.1111111111111111,
              "#46039f"
             ],
             [
              0.2222222222222222,
              "#7201a8"
             ],
             [
              0.3333333333333333,
              "#9c179e"
             ],
             [
              0.4444444444444444,
              "#bd3786"
             ],
             [
              0.5555555555555556,
              "#d8576b"
             ],
             [
              0.6666666666666666,
              "#ed7953"
             ],
             [
              0.7777777777777778,
              "#fb9f3a"
             ],
             [
              0.8888888888888888,
              "#fdca26"
             ],
             [
              1,
              "#f0f921"
             ]
            ],
            "type": "surface"
           }
          ],
          "table": [
           {
            "cells": {
             "fill": {
              "color": "#EBF0F8"
             },
             "line": {
              "color": "white"
             }
            },
            "header": {
             "fill": {
              "color": "#C8D4E3"
             },
             "line": {
              "color": "white"
             }
            },
            "type": "table"
           }
          ]
         },
         "layout": {
          "annotationdefaults": {
           "arrowcolor": "#2a3f5f",
           "arrowhead": 0,
           "arrowwidth": 1
          },
          "autotypenumbers": "strict",
          "coloraxis": {
           "colorbar": {
            "outlinewidth": 0,
            "ticks": ""
           }
          },
          "colorscale": {
           "diverging": [
            [
             0,
             "#8e0152"
            ],
            [
             0.1,
             "#c51b7d"
            ],
            [
             0.2,
             "#de77ae"
            ],
            [
             0.3,
             "#f1b6da"
            ],
            [
             0.4,
             "#fde0ef"
            ],
            [
             0.5,
             "#f7f7f7"
            ],
            [
             0.6,
             "#e6f5d0"
            ],
            [
             0.7,
             "#b8e186"
            ],
            [
             0.8,
             "#7fbc41"
            ],
            [
             0.9,
             "#4d9221"
            ],
            [
             1,
             "#276419"
            ]
           ],
           "sequential": [
            [
             0,
             "#0d0887"
            ],
            [
             0.1111111111111111,
             "#46039f"
            ],
            [
             0.2222222222222222,
             "#7201a8"
            ],
            [
             0.3333333333333333,
             "#9c179e"
            ],
            [
             0.4444444444444444,
             "#bd3786"
            ],
            [
             0.5555555555555556,
             "#d8576b"
            ],
            [
             0.6666666666666666,
             "#ed7953"
            ],
            [
             0.7777777777777778,
             "#fb9f3a"
            ],
            [
             0.8888888888888888,
             "#fdca26"
            ],
            [
             1,
             "#f0f921"
            ]
           ],
           "sequentialminus": [
            [
             0,
             "#0d0887"
            ],
            [
             0.1111111111111111,
             "#46039f"
            ],
            [
             0.2222222222222222,
             "#7201a8"
            ],
            [
             0.3333333333333333,
             "#9c179e"
            ],
            [
             0.4444444444444444,
             "#bd3786"
            ],
            [
             0.5555555555555556,
             "#d8576b"
            ],
            [
             0.6666666666666666,
             "#ed7953"
            ],
            [
             0.7777777777777778,
             "#fb9f3a"
            ],
            [
             0.8888888888888888,
             "#fdca26"
            ],
            [
             1,
             "#f0f921"
            ]
           ]
          },
          "colorway": [
           "#636efa",
           "#EF553B",
           "#00cc96",
           "#ab63fa",
           "#FFA15A",
           "#19d3f3",
           "#FF6692",
           "#B6E880",
           "#FF97FF",
           "#FECB52"
          ],
          "font": {
           "color": "#2a3f5f"
          },
          "geo": {
           "bgcolor": "white",
           "lakecolor": "white",
           "landcolor": "#E5ECF6",
           "showlakes": true,
           "showland": true,
           "subunitcolor": "white"
          },
          "hoverlabel": {
           "align": "left"
          },
          "hovermode": "closest",
          "mapbox": {
           "style": "light"
          },
          "paper_bgcolor": "white",
          "plot_bgcolor": "#E5ECF6",
          "polar": {
           "angularaxis": {
            "gridcolor": "white",
            "linecolor": "white",
            "ticks": ""
           },
           "bgcolor": "#E5ECF6",
           "radialaxis": {
            "gridcolor": "white",
            "linecolor": "white",
            "ticks": ""
           }
          },
          "scene": {
           "xaxis": {
            "backgroundcolor": "#E5ECF6",
            "gridcolor": "white",
            "gridwidth": 2,
            "linecolor": "white",
            "showbackground": true,
            "ticks": "",
            "zerolinecolor": "white"
           },
           "yaxis": {
            "backgroundcolor": "#E5ECF6",
            "gridcolor": "white",
            "gridwidth": 2,
            "linecolor": "white",
            "showbackground": true,
            "ticks": "",
            "zerolinecolor": "white"
           },
           "zaxis": {
            "backgroundcolor": "#E5ECF6",
            "gridcolor": "white",
            "gridwidth": 2,
            "linecolor": "white",
            "showbackground": true,
            "ticks": "",
            "zerolinecolor": "white"
           }
          },
          "shapedefaults": {
           "line": {
            "color": "#2a3f5f"
           }
          },
          "ternary": {
           "aaxis": {
            "gridcolor": "white",
            "linecolor": "white",
            "ticks": ""
           },
           "baxis": {
            "gridcolor": "white",
            "linecolor": "white",
            "ticks": ""
           },
           "bgcolor": "#E5ECF6",
           "caxis": {
            "gridcolor": "white",
            "linecolor": "white",
            "ticks": ""
           }
          },
          "title": {
           "x": 0.05
          },
          "xaxis": {
           "automargin": true,
           "gridcolor": "white",
           "linecolor": "white",
           "ticks": "",
           "title": {
            "standoff": 15
           },
           "zerolinecolor": "white",
           "zerolinewidth": 2
          },
          "yaxis": {
           "automargin": true,
           "gridcolor": "white",
           "linecolor": "white",
           "ticks": "",
           "title": {
            "standoff": 15
           },
           "zerolinecolor": "white",
           "zerolinewidth": 2
          }
         }
        },
        "xaxis": {
         "anchor": "y",
         "domain": [
          0,
          1
         ],
         "title": {
          "text": "date"
         }
        },
        "yaxis": {
         "anchor": "x",
         "domain": [
          0,
          1
         ],
         "title": {
          "text": "claps"
         }
        }
       }
      }
     },
     "metadata": {},
     "output_type": "display_data"
    }
   ],
   "source": [
    "px.scatter(df[df[\"author\"] == \"Tim Denning\"], x=\"date\", y=\"claps\", color=\"publication_url\")"
   ]
  },
  {
   "attachments": {},
   "cell_type": "markdown",
   "metadata": {},
   "source": [
    "## Required definitions for the analysis:\n",
    "\n",
    "- Success: Moving average of the claps the writer got every month.\n",
    "- Popularity: Average claps per article over month for the author/publication\n",
    "\n",
    "## Questions related to the analysis:\n",
    "\n",
    "### Questions about the authors:\n",
    "- [x]  Does authors write for more than 1 publications?\n",
    "- [x]  Which author is the most popular?\n",
    "- [x]  Which author is the most successful one?\n",
    "- [x]  Average reading time of the articles written by the successful writers\n",
    "- [ ]  What kind of stories does the successful writers write?\n",
    "- [x]  How many articles do successful writers write per month?\n",
    "\n",
    "Improvs:\n",
    "\n",
    "- What's the article about? (categorization)\n",
    "- What are the average reading time for successful categories.\n",
    "\n",
    "### Questions about the publications:\n",
    "- [x]  Which publications are more popular?\n",
    "- [x]  What are the average reading times per publication?\n",
    "- [x]  How many different authors write for the publication?\n",
    "- [x]  How many articles are published in average per month?\n",
    "- [ ]  What are the category of popular publications?\n",
    "\n",
    "\n",
    "Improv:\n",
    "- All questions can be generalized by the change over time while plotting the graphs. Time series can be used.\n",
    "- What are the popular sharing hours for the articles? (need the publication time with the hour the article published)"
   ]
  },
  {
   "cell_type": "code",
   "execution_count": 10,
   "metadata": {},
   "outputs": [
    {
     "data": {
      "text/plain": [
       "https://medium.com/swlh              3443.600\n",
       "https://entrepreneurshandbook.co/    1682.025\n",
       "https://levelup.gitconnected.com/    1387.825\n",
       "https://humanparts.medium.com/       1210.250\n",
       "https://medium.com/geekculture        788.200\n",
       "https://towardsdatascience.com/       694.000\n",
       "https://python.plainenglish.io/       271.575\n",
       "dtype: float64"
      ]
     },
     "execution_count": 10,
     "metadata": {},
     "output_type": "execute_result"
    }
   ],
   "source": [
    "# start from the question about the publications:\n",
    "# popularity: average claps per article over month for the author/publication\n",
    "# success: moving average of the claps the writer got every month\n",
    "\n",
    "# which publications are more popular?\n",
    "\n",
    "total_claps = df.groupby(\"publication_url\")[\"claps\"].sum()\n",
    "total_articles = df[\"publication_url\"].value_counts()\n",
    "avg_claps_per_article = total_claps / total_articles\n",
    "\n",
    "avg_claps_per_article.sort_values(ascending=False)"
   ]
  },
  {
   "cell_type": "code",
   "execution_count": 11,
   "metadata": {},
   "outputs": [
    {
     "data": {
      "text/plain": [
       "publication_url\n",
       "https://levelup.gitconnected.com/    28\n",
       "https://towardsdatascience.com/      24\n",
       "https://medium.com/geekculture       22\n",
       "https://humanparts.medium.com/       15\n",
       "https://python.plainenglish.io/      15\n",
       "https://entrepreneurshandbook.co/    12\n",
       "https://medium.com/swlh              10\n",
       "Name: author, dtype: int64"
      ]
     },
     "execution_count": 11,
     "metadata": {},
     "output_type": "execute_result"
    }
   ],
   "source": [
    "# How many different authors write for the publication?\n",
    "df.groupby(\"publication_url\")[\"author\"].unique().apply(len).sort_values(ascending=False)"
   ]
  },
  {
   "cell_type": "code",
   "execution_count": 12,
   "metadata": {},
   "outputs": [
    {
     "data": {
      "text/html": [
       "<div>\n",
       "<style scoped>\n",
       "    .dataframe tbody tr th:only-of-type {\n",
       "        vertical-align: middle;\n",
       "    }\n",
       "\n",
       "    .dataframe tbody tr th {\n",
       "        vertical-align: top;\n",
       "    }\n",
       "\n",
       "    .dataframe thead th {\n",
       "        text-align: right;\n",
       "    }\n",
       "</style>\n",
       "<table border=\"1\" class=\"dataframe\">\n",
       "  <thead>\n",
       "    <tr style=\"text-align: right;\">\n",
       "      <th></th>\n",
       "      <th>month</th>\n",
       "    </tr>\n",
       "    <tr>\n",
       "      <th>publication_url</th>\n",
       "      <th></th>\n",
       "    </tr>\n",
       "  </thead>\n",
       "  <tbody>\n",
       "    <tr>\n",
       "      <th>https://entrepreneurshandbook.co/</th>\n",
       "      <td>10.00</td>\n",
       "    </tr>\n",
       "    <tr>\n",
       "      <th>https://levelup.gitconnected.com/</th>\n",
       "      <td>10.00</td>\n",
       "    </tr>\n",
       "    <tr>\n",
       "      <th>https://medium.com/geekculture</th>\n",
       "      <td>10.00</td>\n",
       "    </tr>\n",
       "    <tr>\n",
       "      <th>https://medium.com/swlh</th>\n",
       "      <td>10.00</td>\n",
       "    </tr>\n",
       "    <tr>\n",
       "      <th>https://python.plainenglish.io/</th>\n",
       "      <td>10.00</td>\n",
       "    </tr>\n",
       "    <tr>\n",
       "      <th>https://towardsdatascience.com/</th>\n",
       "      <td>8.75</td>\n",
       "    </tr>\n",
       "    <tr>\n",
       "      <th>https://humanparts.medium.com/</th>\n",
       "      <td>4.00</td>\n",
       "    </tr>\n",
       "  </tbody>\n",
       "</table>\n",
       "</div>"
      ],
      "text/plain": [
       "                                   month\n",
       "publication_url                         \n",
       "https://entrepreneurshandbook.co/  10.00\n",
       "https://levelup.gitconnected.com/  10.00\n",
       "https://medium.com/geekculture     10.00\n",
       "https://medium.com/swlh            10.00\n",
       "https://python.plainenglish.io/    10.00\n",
       "https://towardsdatascience.com/     8.75\n",
       "https://humanparts.medium.com/      4.00"
      ]
     },
     "execution_count": 12,
     "metadata": {},
     "output_type": "execute_result"
    }
   ],
   "source": [
    "# How many articles are published in average per month?\n",
    "pd.DataFrame(df.groupby(\"publication_url\")[\"month\"].value_counts()).reset_index(level=0).groupby(\"publication_url\").mean().sort_values(\n",
    "    by=\"month\", ascending=False\n",
    ")"
   ]
  },
  {
   "cell_type": "code",
   "execution_count": 13,
   "metadata": {},
   "outputs": [
    {
     "data": {
      "text/plain": [
       "publication_url\n",
       "https://entrepreneurshandbook.co/    10.125000\n",
       "https://towardsdatascience.com/       7.942857\n",
       "https://humanparts.medium.com/        7.187500\n",
       "https://levelup.gitconnected.com/     6.650000\n",
       "https://medium.com/swlh               6.125000\n",
       "https://medium.com/geekculture        5.800000\n",
       "https://python.plainenglish.io/       5.625000\n",
       "Name: reading_time, dtype: float64"
      ]
     },
     "execution_count": 13,
     "metadata": {},
     "output_type": "execute_result"
    }
   ],
   "source": [
    "# What are the average reading times per publication?\n",
    "df.groupby(\"publication_url\")[\"reading_time\"].mean().sort_values(ascending=False)"
   ]
  },
  {
   "cell_type": "code",
   "execution_count": 14,
   "metadata": {},
   "outputs": [
    {
     "data": {
      "text/plain": [
       "author\n",
       "Ari Joury, PhD                           3\n",
       "Tim Denning                              2\n",
       "Youssef Hosni                            2\n",
       "Ahmed Besbes                             2\n",
       "Nitin Sharma                             2\n",
       "                                        ..\n",
       "E. Black                                 1\n",
       "Dinesh Kumar K B                         1\n",
       "Devansh- Machine Learning Made Simple    1\n",
       "Desiree Peralta                          1\n",
       "Zulie Rane                               1\n",
       "Name: publication_url, Length: 117, dtype: int64"
      ]
     },
     "execution_count": 14,
     "metadata": {},
     "output_type": "execute_result"
    }
   ],
   "source": [
    "# does authors write for more than 1 publication?\n",
    "df.groupby(\"author\")[\"publication_url\"].apply(lambda x: len(set(x))).sort_values(ascending=False)"
   ]
  },
  {
   "cell_type": "code",
   "execution_count": 15,
   "metadata": {},
   "outputs": [
    {
     "data": {
      "text/html": [
       "<div>\n",
       "<style scoped>\n",
       "    .dataframe tbody tr th:only-of-type {\n",
       "        vertical-align: middle;\n",
       "    }\n",
       "\n",
       "    .dataframe tbody tr th {\n",
       "        vertical-align: top;\n",
       "    }\n",
       "\n",
       "    .dataframe thead th {\n",
       "        text-align: right;\n",
       "    }\n",
       "</style>\n",
       "<table border=\"1\" class=\"dataframe\">\n",
       "  <thead>\n",
       "    <tr style=\"text-align: right;\">\n",
       "      <th></th>\n",
       "      <th>author</th>\n",
       "      <th>avg. articles</th>\n",
       "    </tr>\n",
       "  </thead>\n",
       "  <tbody>\n",
       "    <tr>\n",
       "      <th>0</th>\n",
       "      <td>Tim Denning</td>\n",
       "      <td>8.50</td>\n",
       "    </tr>\n",
       "    <tr>\n",
       "      <th>1</th>\n",
       "      <td>The PyCoach</td>\n",
       "      <td>4.00</td>\n",
       "    </tr>\n",
       "    <tr>\n",
       "      <th>2</th>\n",
       "      <td>Haider Imtiaz</td>\n",
       "      <td>2.75</td>\n",
       "    </tr>\n",
       "    <tr>\n",
       "      <th>3</th>\n",
       "      <td>Arthur Hayes</td>\n",
       "      <td>2.25</td>\n",
       "    </tr>\n",
       "    <tr>\n",
       "      <th>4</th>\n",
       "      <td>Farhan Tanvir</td>\n",
       "      <td>1.75</td>\n",
       "    </tr>\n",
       "    <tr>\n",
       "      <th>...</th>\n",
       "      <td>...</td>\n",
       "      <td>...</td>\n",
       "    </tr>\n",
       "    <tr>\n",
       "      <th>112</th>\n",
       "      <td>Mohammed Ayar</td>\n",
       "      <td>0.25</td>\n",
       "    </tr>\n",
       "    <tr>\n",
       "      <th>113</th>\n",
       "      <td>Sanjay Priyadarshi</td>\n",
       "      <td>0.25</td>\n",
       "    </tr>\n",
       "    <tr>\n",
       "      <th>114</th>\n",
       "      <td>Matt Welsh</td>\n",
       "      <td>0.25</td>\n",
       "    </tr>\n",
       "    <tr>\n",
       "      <th>115</th>\n",
       "      <td>Carlos Arguelles</td>\n",
       "      <td>0.25</td>\n",
       "    </tr>\n",
       "    <tr>\n",
       "      <th>116</th>\n",
       "      <td>Rachel Greenberg</td>\n",
       "      <td>0.25</td>\n",
       "    </tr>\n",
       "  </tbody>\n",
       "</table>\n",
       "<p>117 rows × 2 columns</p>\n",
       "</div>"
      ],
      "text/plain": [
       "                 author  avg. articles\n",
       "0           Tim Denning           8.50\n",
       "1           The PyCoach           4.00\n",
       "2         Haider Imtiaz           2.75\n",
       "3          Arthur Hayes           2.25\n",
       "4         Farhan Tanvir           1.75\n",
       "..                  ...            ...\n",
       "112       Mohammed Ayar           0.25\n",
       "113  Sanjay Priyadarshi           0.25\n",
       "114          Matt Welsh           0.25\n",
       "115    Carlos Arguelles           0.25\n",
       "116    Rachel Greenberg           0.25\n",
       "\n",
       "[117 rows x 2 columns]"
      ]
     },
     "execution_count": 15,
     "metadata": {},
     "output_type": "execute_result"
    }
   ],
   "source": [
    "# how many articles an author write per month?\n",
    "number_of_articles_authors = (df[\"author\"].value_counts() / len(df[\"month\"].unique())).sort_values(ascending=False)\n",
    "number_of_articles_authors = number_of_articles_authors.reset_index()\n",
    "number_of_articles_authors[\"avg. articles\"] = number_of_articles_authors[\"author\"]\n",
    "number_of_articles_authors[\"author\"] = number_of_articles_authors[\"index\"]\n",
    "number_of_articles_authors.drop(columns=\"index\", inplace=True)\n",
    "number_of_articles_authors"
   ]
  },
  {
   "cell_type": "code",
   "execution_count": 16,
   "metadata": {},
   "outputs": [
    {
     "data": {
      "text/html": [
       "<div>\n",
       "<style scoped>\n",
       "    .dataframe tbody tr th:only-of-type {\n",
       "        vertical-align: middle;\n",
       "    }\n",
       "\n",
       "    .dataframe tbody tr th {\n",
       "        vertical-align: top;\n",
       "    }\n",
       "\n",
       "    .dataframe thead th {\n",
       "        text-align: right;\n",
       "    }\n",
       "</style>\n",
       "<table border=\"1\" class=\"dataframe\">\n",
       "  <thead>\n",
       "    <tr style=\"text-align: right;\">\n",
       "      <th></th>\n",
       "      <th>author</th>\n",
       "      <th>reading_time</th>\n",
       "    </tr>\n",
       "  </thead>\n",
       "  <tbody>\n",
       "    <tr>\n",
       "      <th>0</th>\n",
       "      <td>Shailey Dash</td>\n",
       "      <td>22.000000</td>\n",
       "    </tr>\n",
       "    <tr>\n",
       "      <th>1</th>\n",
       "      <td>Arthur Hayes</td>\n",
       "      <td>20.777778</td>\n",
       "    </tr>\n",
       "    <tr>\n",
       "      <th>2</th>\n",
       "      <td>Jude Ellison S. Doyle</td>\n",
       "      <td>17.000000</td>\n",
       "    </tr>\n",
       "    <tr>\n",
       "      <th>3</th>\n",
       "      <td>Kondah Mouad</td>\n",
       "      <td>15.000000</td>\n",
       "    </tr>\n",
       "    <tr>\n",
       "      <th>4</th>\n",
       "      <td>Md. Zubair</td>\n",
       "      <td>14.000000</td>\n",
       "    </tr>\n",
       "    <tr>\n",
       "      <th>...</th>\n",
       "      <td>...</td>\n",
       "      <td>...</td>\n",
       "    </tr>\n",
       "    <tr>\n",
       "      <th>112</th>\n",
       "      <td>Paul Greenberg</td>\n",
       "      <td>3.000000</td>\n",
       "    </tr>\n",
       "    <tr>\n",
       "      <th>113</th>\n",
       "      <td>Amal Hasni</td>\n",
       "      <td>3.000000</td>\n",
       "    </tr>\n",
       "    <tr>\n",
       "      <th>114</th>\n",
       "      <td>Richard Taujenis</td>\n",
       "      <td>3.000000</td>\n",
       "    </tr>\n",
       "    <tr>\n",
       "      <th>115</th>\n",
       "      <td>Yancy Dennis</td>\n",
       "      <td>2.333333</td>\n",
       "    </tr>\n",
       "    <tr>\n",
       "      <th>116</th>\n",
       "      <td>Imran Farooq</td>\n",
       "      <td>2.000000</td>\n",
       "    </tr>\n",
       "  </tbody>\n",
       "</table>\n",
       "<p>117 rows × 2 columns</p>\n",
       "</div>"
      ],
      "text/plain": [
       "                    author  reading_time\n",
       "0             Shailey Dash     22.000000\n",
       "1             Arthur Hayes     20.777778\n",
       "2    Jude Ellison S. Doyle     17.000000\n",
       "3             Kondah Mouad     15.000000\n",
       "4               Md. Zubair     14.000000\n",
       "..                     ...           ...\n",
       "112         Paul Greenberg      3.000000\n",
       "113             Amal Hasni      3.000000\n",
       "114       Richard Taujenis      3.000000\n",
       "115           Yancy Dennis      2.333333\n",
       "116           Imran Farooq      2.000000\n",
       "\n",
       "[117 rows x 2 columns]"
      ]
     },
     "execution_count": 16,
     "metadata": {},
     "output_type": "execute_result"
    }
   ],
   "source": [
    "average_reading_time = df.groupby(\"author\")[\"reading_time\"].mean().sort_values(ascending=False).reset_index()\n",
    "average_reading_time"
   ]
  },
  {
   "cell_type": "code",
   "execution_count": 17,
   "metadata": {},
   "outputs": [
    {
     "data": {
      "text/html": [
       "<div>\n",
       "<style scoped>\n",
       "    .dataframe tbody tr th:only-of-type {\n",
       "        vertical-align: middle;\n",
       "    }\n",
       "\n",
       "    .dataframe tbody tr th {\n",
       "        vertical-align: top;\n",
       "    }\n",
       "\n",
       "    .dataframe thead th {\n",
       "        text-align: right;\n",
       "    }\n",
       "</style>\n",
       "<table border=\"1\" class=\"dataframe\">\n",
       "  <thead>\n",
       "    <tr style=\"text-align: right;\">\n",
       "      <th></th>\n",
       "      <th>author</th>\n",
       "      <th>claps</th>\n",
       "    </tr>\n",
       "  </thead>\n",
       "  <tbody>\n",
       "    <tr>\n",
       "      <th>0</th>\n",
       "      <td>Aaron Dinin, PhD</td>\n",
       "      <td>957.000000</td>\n",
       "    </tr>\n",
       "    <tr>\n",
       "      <th>1</th>\n",
       "      <td>Aayush Malik</td>\n",
       "      <td>269.000000</td>\n",
       "    </tr>\n",
       "    <tr>\n",
       "      <th>2</th>\n",
       "      <td>Adejumo Ridwan Suleiman</td>\n",
       "      <td>389.000000</td>\n",
       "    </tr>\n",
       "    <tr>\n",
       "      <th>3</th>\n",
       "      <td>Ahmed Besbes</td>\n",
       "      <td>495.000000</td>\n",
       "    </tr>\n",
       "    <tr>\n",
       "      <th>4</th>\n",
       "      <td>Al Anany</td>\n",
       "      <td>494.000000</td>\n",
       "    </tr>\n",
       "    <tr>\n",
       "      <th>...</th>\n",
       "      <td>...</td>\n",
       "      <td>...</td>\n",
       "    </tr>\n",
       "    <tr>\n",
       "      <th>112</th>\n",
       "      <td>Wenting Zhang</td>\n",
       "      <td>695.000000</td>\n",
       "    </tr>\n",
       "    <tr>\n",
       "      <th>113</th>\n",
       "      <td>Wouter van Heeswijk, PhD</td>\n",
       "      <td>403.000000</td>\n",
       "    </tr>\n",
       "    <tr>\n",
       "      <th>114</th>\n",
       "      <td>Yancy Dennis</td>\n",
       "      <td>299.000000</td>\n",
       "    </tr>\n",
       "    <tr>\n",
       "      <th>115</th>\n",
       "      <td>Youssef Hosni</td>\n",
       "      <td>1069.666667</td>\n",
       "    </tr>\n",
       "    <tr>\n",
       "      <th>116</th>\n",
       "      <td>Zulie Rane</td>\n",
       "      <td>11300.000000</td>\n",
       "    </tr>\n",
       "  </tbody>\n",
       "</table>\n",
       "<p>117 rows × 2 columns</p>\n",
       "</div>"
      ],
      "text/plain": [
       "                       author         claps\n",
       "0            Aaron Dinin, PhD    957.000000\n",
       "1                Aayush Malik    269.000000\n",
       "2     Adejumo Ridwan Suleiman    389.000000\n",
       "3                Ahmed Besbes    495.000000\n",
       "4                    Al Anany    494.000000\n",
       "..                        ...           ...\n",
       "112             Wenting Zhang    695.000000\n",
       "113  Wouter van Heeswijk, PhD    403.000000\n",
       "114              Yancy Dennis    299.000000\n",
       "115             Youssef Hosni   1069.666667\n",
       "116                Zulie Rane  11300.000000\n",
       "\n",
       "[117 rows x 2 columns]"
      ]
     },
     "execution_count": 17,
     "metadata": {},
     "output_type": "execute_result"
    }
   ],
   "source": [
    "# popularity of authors\n",
    "authors_popularity = df.groupby(\"author\")[\"claps\"].mean().reset_index()\n",
    "authors_popularity"
   ]
  },
  {
   "cell_type": "code",
   "execution_count": 18,
   "metadata": {},
   "outputs": [
    {
     "data": {
      "text/plain": [
       "author                    publication_url                  \n",
       "Aaron Dinin, PhD          https://entrepreneurshandbook.co/    1\n",
       "Aayush Malik              https://towardsdatascience.com/      1\n",
       "Adejumo Ridwan Suleiman   https://python.plainenglish.io/      3\n",
       "Ahmed Besbes              https://levelup.gitconnected.com/    1\n",
       "Al Anany                  https://entrepreneurshandbook.co/    6\n",
       "                                                              ..\n",
       "Wenting Zhang             https://medium.com/geekculture       1\n",
       "Wouter van Heeswijk, PhD  https://towardsdatascience.com/      1\n",
       "Yancy Dennis              https://python.plainenglish.io/      3\n",
       "Youssef Hosni             https://medium.com/geekculture       2\n",
       "Zulie Rane                https://medium.com/swlh              1\n",
       "Name: publication_url, Length: 117, dtype: int64"
      ]
     },
     "metadata": {},
     "output_type": "display_data"
    },
    {
     "data": {
      "text/html": [
       "<div>\n",
       "<style scoped>\n",
       "    .dataframe tbody tr th:only-of-type {\n",
       "        vertical-align: middle;\n",
       "    }\n",
       "\n",
       "    .dataframe tbody tr th {\n",
       "        vertical-align: top;\n",
       "    }\n",
       "\n",
       "    .dataframe thead th {\n",
       "        text-align: right;\n",
       "    }\n",
       "</style>\n",
       "<table border=\"1\" class=\"dataframe\">\n",
       "  <thead>\n",
       "    <tr style=\"text-align: right;\">\n",
       "      <th></th>\n",
       "      <th>publication_url</th>\n",
       "      <th>author</th>\n",
       "      <th>most_published_single_publication</th>\n",
       "    </tr>\n",
       "  </thead>\n",
       "  <tbody>\n",
       "    <tr>\n",
       "      <th>0</th>\n",
       "      <td>https://entrepreneurshandbook.co/</td>\n",
       "      <td>Aaron Dinin, PhD</td>\n",
       "      <td>1</td>\n",
       "    </tr>\n",
       "    <tr>\n",
       "      <th>1</th>\n",
       "      <td>https://towardsdatascience.com/</td>\n",
       "      <td>Aayush Malik</td>\n",
       "      <td>1</td>\n",
       "    </tr>\n",
       "    <tr>\n",
       "      <th>2</th>\n",
       "      <td>https://python.plainenglish.io/</td>\n",
       "      <td>Adejumo Ridwan Suleiman</td>\n",
       "      <td>3</td>\n",
       "    </tr>\n",
       "    <tr>\n",
       "      <th>3</th>\n",
       "      <td>https://levelup.gitconnected.com/</td>\n",
       "      <td>Ahmed Besbes</td>\n",
       "      <td>1</td>\n",
       "    </tr>\n",
       "    <tr>\n",
       "      <th>4</th>\n",
       "      <td>https://entrepreneurshandbook.co/</td>\n",
       "      <td>Al Anany</td>\n",
       "      <td>6</td>\n",
       "    </tr>\n",
       "    <tr>\n",
       "      <th>...</th>\n",
       "      <td>...</td>\n",
       "      <td>...</td>\n",
       "      <td>...</td>\n",
       "    </tr>\n",
       "    <tr>\n",
       "      <th>112</th>\n",
       "      <td>https://medium.com/geekculture</td>\n",
       "      <td>Wenting Zhang</td>\n",
       "      <td>1</td>\n",
       "    </tr>\n",
       "    <tr>\n",
       "      <th>113</th>\n",
       "      <td>https://towardsdatascience.com/</td>\n",
       "      <td>Wouter van Heeswijk, PhD</td>\n",
       "      <td>1</td>\n",
       "    </tr>\n",
       "    <tr>\n",
       "      <th>114</th>\n",
       "      <td>https://python.plainenglish.io/</td>\n",
       "      <td>Yancy Dennis</td>\n",
       "      <td>3</td>\n",
       "    </tr>\n",
       "    <tr>\n",
       "      <th>115</th>\n",
       "      <td>https://medium.com/geekculture</td>\n",
       "      <td>Youssef Hosni</td>\n",
       "      <td>2</td>\n",
       "    </tr>\n",
       "    <tr>\n",
       "      <th>116</th>\n",
       "      <td>https://medium.com/swlh</td>\n",
       "      <td>Zulie Rane</td>\n",
       "      <td>1</td>\n",
       "    </tr>\n",
       "  </tbody>\n",
       "</table>\n",
       "<p>117 rows × 3 columns</p>\n",
       "</div>"
      ],
      "text/plain": [
       "                       publication_url                    author  \\\n",
       "0    https://entrepreneurshandbook.co/          Aaron Dinin, PhD   \n",
       "1      https://towardsdatascience.com/              Aayush Malik   \n",
       "2      https://python.plainenglish.io/   Adejumo Ridwan Suleiman   \n",
       "3    https://levelup.gitconnected.com/              Ahmed Besbes   \n",
       "4    https://entrepreneurshandbook.co/                  Al Anany   \n",
       "..                                 ...                       ...   \n",
       "112     https://medium.com/geekculture             Wenting Zhang   \n",
       "113    https://towardsdatascience.com/  Wouter van Heeswijk, PhD   \n",
       "114    https://python.plainenglish.io/              Yancy Dennis   \n",
       "115     https://medium.com/geekculture             Youssef Hosni   \n",
       "116            https://medium.com/swlh                Zulie Rane   \n",
       "\n",
       "     most_published_single_publication  \n",
       "0                                    1  \n",
       "1                                    1  \n",
       "2                                    3  \n",
       "3                                    1  \n",
       "4                                    6  \n",
       "..                                 ...  \n",
       "112                                  1  \n",
       "113                                  1  \n",
       "114                                  3  \n",
       "115                                  2  \n",
       "116                                  1  \n",
       "\n",
       "[117 rows x 3 columns]"
      ]
     },
     "execution_count": 18,
     "metadata": {},
     "output_type": "execute_result"
    }
   ],
   "source": [
    "# which publications does authors use more?\n",
    "\n",
    "# this will work only and only if there's a value_counts as it returns the first row of every group\n",
    "# since value_counts returns a sorted structure, just pick the first one after grouping by the publication urls\n",
    "a = df.groupby(\"author\")[\"publication_url\"].value_counts().groupby(level=0).head(1)\n",
    "display(a)\n",
    "\n",
    "a = a.reset_index(0)\n",
    "a[\"most_published_single_publication\"] = a[\"publication_url\"]\n",
    "a.drop(columns=\"publication_url\", inplace=True)\n",
    "a = a.reset_index()\n",
    "a"
   ]
  },
  {
   "cell_type": "code",
   "execution_count": 19,
   "metadata": {},
   "outputs": [
    {
     "data": {
      "text/html": [
       "<div>\n",
       "<style scoped>\n",
       "    .dataframe tbody tr th:only-of-type {\n",
       "        vertical-align: middle;\n",
       "    }\n",
       "\n",
       "    .dataframe tbody tr th {\n",
       "        vertical-align: top;\n",
       "    }\n",
       "\n",
       "    .dataframe thead th {\n",
       "        text-align: right;\n",
       "    }\n",
       "</style>\n",
       "<table border=\"1\" class=\"dataframe\">\n",
       "  <thead>\n",
       "    <tr style=\"text-align: right;\">\n",
       "      <th></th>\n",
       "      <th>author</th>\n",
       "      <th>reading_time</th>\n",
       "      <th>claps</th>\n",
       "      <th>avg. articles</th>\n",
       "      <th>publication_url</th>\n",
       "      <th>most_published_single_publication</th>\n",
       "      <th>earned</th>\n",
       "    </tr>\n",
       "  </thead>\n",
       "  <tbody>\n",
       "    <tr>\n",
       "      <th>106</th>\n",
       "      <td>Tim Denning</td>\n",
       "      <td>5.941176</td>\n",
       "      <td>2953.352941</td>\n",
       "      <td>8.50</td>\n",
       "      <td>https://medium.com/swlh</td>\n",
       "      <td>24</td>\n",
       "      <td>295.335294</td>\n",
       "    </tr>\n",
       "    <tr>\n",
       "      <th>55</th>\n",
       "      <td>Jano le Roux</td>\n",
       "      <td>5.250000</td>\n",
       "      <td>2692.500000</td>\n",
       "      <td>1.00</td>\n",
       "      <td>https://medium.com/swlh</td>\n",
       "      <td>4</td>\n",
       "      <td>269.250000</td>\n",
       "    </tr>\n",
       "    <tr>\n",
       "      <th>21</th>\n",
       "      <td>Arthur Hayes</td>\n",
       "      <td>20.777778</td>\n",
       "      <td>2422.222222</td>\n",
       "      <td>2.25</td>\n",
       "      <td>https://entrepreneurshandbook.co/</td>\n",
       "      <td>9</td>\n",
       "      <td>242.222222</td>\n",
       "    </tr>\n",
       "    <tr>\n",
       "      <th>98</th>\n",
       "      <td>Simon Holdorf</td>\n",
       "      <td>11.000000</td>\n",
       "      <td>1212.250000</td>\n",
       "      <td>1.00</td>\n",
       "      <td>https://levelup.gitconnected.com/</td>\n",
       "      <td>4</td>\n",
       "      <td>121.225000</td>\n",
       "    </tr>\n",
       "    <tr>\n",
       "      <th>104</th>\n",
       "      <td>The PyCoach</td>\n",
       "      <td>5.562500</td>\n",
       "      <td>1093.937500</td>\n",
       "      <td>4.00</td>\n",
       "      <td>https://medium.com/geekculture</td>\n",
       "      <td>11</td>\n",
       "      <td>109.393750</td>\n",
       "    </tr>\n",
       "    <tr>\n",
       "      <th>64</th>\n",
       "      <td>Joseph Mavericks</td>\n",
       "      <td>9.500000</td>\n",
       "      <td>732.000000</td>\n",
       "      <td>1.00</td>\n",
       "      <td>https://entrepreneurshandbook.co/</td>\n",
       "      <td>4</td>\n",
       "      <td>73.200000</td>\n",
       "    </tr>\n",
       "    <tr>\n",
       "      <th>23</th>\n",
       "      <td>Avi Chawla</td>\n",
       "      <td>6.400000</td>\n",
       "      <td>712.200000</td>\n",
       "      <td>1.25</td>\n",
       "      <td>https://towardsdatascience.com/</td>\n",
       "      <td>5</td>\n",
       "      <td>71.220000</td>\n",
       "    </tr>\n",
       "    <tr>\n",
       "      <th>4</th>\n",
       "      <td>Al Anany</td>\n",
       "      <td>6.333333</td>\n",
       "      <td>494.000000</td>\n",
       "      <td>1.50</td>\n",
       "      <td>https://entrepreneurshandbook.co/</td>\n",
       "      <td>6</td>\n",
       "      <td>49.400000</td>\n",
       "    </tr>\n",
       "    <tr>\n",
       "      <th>72</th>\n",
       "      <td>Liu Zuo Lin</td>\n",
       "      <td>4.571429</td>\n",
       "      <td>292.285714</td>\n",
       "      <td>1.75</td>\n",
       "      <td>https://python.plainenglish.io/</td>\n",
       "      <td>7</td>\n",
       "      <td>29.228571</td>\n",
       "    </tr>\n",
       "    <tr>\n",
       "      <th>42</th>\n",
       "      <td>Farhan Tanvir</td>\n",
       "      <td>4.857143</td>\n",
       "      <td>267.571429</td>\n",
       "      <td>1.75</td>\n",
       "      <td>https://medium.com/geekculture</td>\n",
       "      <td>4</td>\n",
       "      <td>26.757143</td>\n",
       "    </tr>\n",
       "    <tr>\n",
       "      <th>45</th>\n",
       "      <td>Haider Imtiaz</td>\n",
       "      <td>7.363636</td>\n",
       "      <td>176.727273</td>\n",
       "      <td>2.75</td>\n",
       "      <td>https://python.plainenglish.io/</td>\n",
       "      <td>11</td>\n",
       "      <td>17.672727</td>\n",
       "    </tr>\n",
       "  </tbody>\n",
       "</table>\n",
       "</div>"
      ],
      "text/plain": [
       "               author  reading_time        claps  avg. articles  \\\n",
       "106       Tim Denning      5.941176  2953.352941           8.50   \n",
       "55       Jano le Roux      5.250000  2692.500000           1.00   \n",
       "21       Arthur Hayes     20.777778  2422.222222           2.25   \n",
       "98      Simon Holdorf     11.000000  1212.250000           1.00   \n",
       "104       The PyCoach      5.562500  1093.937500           4.00   \n",
       "64   Joseph Mavericks      9.500000   732.000000           1.00   \n",
       "23         Avi Chawla      6.400000   712.200000           1.25   \n",
       "4            Al Anany      6.333333   494.000000           1.50   \n",
       "72        Liu Zuo Lin      4.571429   292.285714           1.75   \n",
       "42      Farhan Tanvir      4.857143   267.571429           1.75   \n",
       "45      Haider Imtiaz      7.363636   176.727273           2.75   \n",
       "\n",
       "                       publication_url  most_published_single_publication  \\\n",
       "106            https://medium.com/swlh                                 24   \n",
       "55             https://medium.com/swlh                                  4   \n",
       "21   https://entrepreneurshandbook.co/                                  9   \n",
       "98   https://levelup.gitconnected.com/                                  4   \n",
       "104     https://medium.com/geekculture                                 11   \n",
       "64   https://entrepreneurshandbook.co/                                  4   \n",
       "23     https://towardsdatascience.com/                                  5   \n",
       "4    https://entrepreneurshandbook.co/                                  6   \n",
       "72     https://python.plainenglish.io/                                  7   \n",
       "42      https://medium.com/geekculture                                  4   \n",
       "45     https://python.plainenglish.io/                                 11   \n",
       "\n",
       "         earned  \n",
       "106  295.335294  \n",
       "55   269.250000  \n",
       "21   242.222222  \n",
       "98   121.225000  \n",
       "104  109.393750  \n",
       "64    73.200000  \n",
       "23    71.220000  \n",
       "4     49.400000  \n",
       "72    29.228571  \n",
       "42    26.757143  \n",
       "45    17.672727  "
      ]
     },
     "execution_count": 19,
     "metadata": {},
     "output_type": "execute_result"
    }
   ],
   "source": [
    "# is there a correlation between average claps and reading time?\n",
    "authors = average_reading_time.merge(authors_popularity, how=\"right\", on=\"author\")\n",
    "authors = authors.merge(number_of_articles_authors, how=\"right\", on=\"author\")\n",
    "authors = authors.merge(a, how=\"right\", on=\"author\")\n",
    "authors = authors.sort_values(by=\"claps\", ascending=False)\n",
    "\n",
    "authors[\"earned\"] = authors[\"claps\"] * 0.1  # minimum approximation, generally ranges between 0.01-5 usd but it's rather higher than 0.1\n",
    "\n",
    "authors[authors[\"avg. articles\"] >= 1]  # removing the outliers (somebody got 55 -> 11k claps, which is clearly luck)"
   ]
  },
  {
   "cell_type": "code",
   "execution_count": 39,
   "metadata": {},
   "outputs": [
    {
     "data": {
      "text/plain": [
       "Index(['author', 'reading_time', 'claps', 'avg. articles', 'publication_url',\n",
       "       'most_published_single_publication', 'earned'],\n",
       "      dtype='object')"
      ]
     },
     "execution_count": 39,
     "metadata": {},
     "output_type": "execute_result"
    }
   ],
   "source": [
    "authors[authors[\"avg. articles\"] >= 1].columns"
   ]
  },
  {
   "cell_type": "code",
   "execution_count": 67,
   "metadata": {},
   "outputs": [],
   "source": [
    "# export the final df about the authors\n",
    "def postprocess(df):\n",
    "    columns = [\"reading_time\", \"claps\", \"earned\"]\n",
    "    df_copy = df.copy()\n",
    "    for c in columns:\n",
    "        df_copy[c] = df[c].copy().round(decimals=2)\n",
    "\n",
    "    return df_copy\n",
    "\n",
    "\n",
    "postprocess(authors[authors[\"avg. articles\"] >= 1]).to_csv(\"authors.csv\", index=False)"
   ]
  },
  {
   "cell_type": "code",
   "execution_count": 21,
   "metadata": {},
   "outputs": [
    {
     "data": {
      "application/vnd.plotly.v1+json": {
       "config": {
        "plotlyServerURL": "https://plot.ly"
       },
       "data": [
        {
         "alignmentgroup": "True",
         "hovertemplate": "reading_time=%{x}<br>claps=%{y}<extra></extra>",
         "legendgroup": "",
         "marker": {
          "color": "#636efa",
          "pattern": {
           "shape": ""
          }
         },
         "name": "",
         "offsetgroup": "",
         "orientation": "v",
         "showlegend": false,
         "textposition": "auto",
         "type": "bar",
         "x": [
          2,
          3,
          4,
          5,
          6,
          7,
          8,
          9,
          10,
          11,
          12,
          13,
          14,
          15,
          17,
          21,
          22,
          24,
          27,
          31
         ],
         "xaxis": "x",
         "y": [
          376.4,
          728.8888888888889,
          1652.9268292682927,
          1276.2926829268292,
          1855.9772727272727,
          1080.5526315789473,
          639.3333333333334,
          2344.6,
          1190.3,
          1142.8,
          375,
          630.5,
          479,
          1662.5,
          1818,
          1075.5,
          1820.6666666666667,
          2200,
          2200,
          2400
         ],
         "yaxis": "y"
        }
       ],
       "layout": {
        "barmode": "relative",
        "legend": {
         "tracegroupgap": 0
        },
        "margin": {
         "t": 60
        },
        "template": {
         "data": {
          "bar": [
           {
            "error_x": {
             "color": "#2a3f5f"
            },
            "error_y": {
             "color": "#2a3f5f"
            },
            "marker": {
             "line": {
              "color": "#E5ECF6",
              "width": 0.5
             },
             "pattern": {
              "fillmode": "overlay",
              "size": 10,
              "solidity": 0.2
             }
            },
            "type": "bar"
           }
          ],
          "barpolar": [
           {
            "marker": {
             "line": {
              "color": "#E5ECF6",
              "width": 0.5
             },
             "pattern": {
              "fillmode": "overlay",
              "size": 10,
              "solidity": 0.2
             }
            },
            "type": "barpolar"
           }
          ],
          "carpet": [
           {
            "aaxis": {
             "endlinecolor": "#2a3f5f",
             "gridcolor": "white",
             "linecolor": "white",
             "minorgridcolor": "white",
             "startlinecolor": "#2a3f5f"
            },
            "baxis": {
             "endlinecolor": "#2a3f5f",
             "gridcolor": "white",
             "linecolor": "white",
             "minorgridcolor": "white",
             "startlinecolor": "#2a3f5f"
            },
            "type": "carpet"
           }
          ],
          "choropleth": [
           {
            "colorbar": {
             "outlinewidth": 0,
             "ticks": ""
            },
            "type": "choropleth"
           }
          ],
          "contour": [
           {
            "colorbar": {
             "outlinewidth": 0,
             "ticks": ""
            },
            "colorscale": [
             [
              0,
              "#0d0887"
             ],
             [
              0.1111111111111111,
              "#46039f"
             ],
             [
              0.2222222222222222,
              "#7201a8"
             ],
             [
              0.3333333333333333,
              "#9c179e"
             ],
             [
              0.4444444444444444,
              "#bd3786"
             ],
             [
              0.5555555555555556,
              "#d8576b"
             ],
             [
              0.6666666666666666,
              "#ed7953"
             ],
             [
              0.7777777777777778,
              "#fb9f3a"
             ],
             [
              0.8888888888888888,
              "#fdca26"
             ],
             [
              1,
              "#f0f921"
             ]
            ],
            "type": "contour"
           }
          ],
          "contourcarpet": [
           {
            "colorbar": {
             "outlinewidth": 0,
             "ticks": ""
            },
            "type": "contourcarpet"
           }
          ],
          "heatmap": [
           {
            "colorbar": {
             "outlinewidth": 0,
             "ticks": ""
            },
            "colorscale": [
             [
              0,
              "#0d0887"
             ],
             [
              0.1111111111111111,
              "#46039f"
             ],
             [
              0.2222222222222222,
              "#7201a8"
             ],
             [
              0.3333333333333333,
              "#9c179e"
             ],
             [
              0.4444444444444444,
              "#bd3786"
             ],
             [
              0.5555555555555556,
              "#d8576b"
             ],
             [
              0.6666666666666666,
              "#ed7953"
             ],
             [
              0.7777777777777778,
              "#fb9f3a"
             ],
             [
              0.8888888888888888,
              "#fdca26"
             ],
             [
              1,
              "#f0f921"
             ]
            ],
            "type": "heatmap"
           }
          ],
          "heatmapgl": [
           {
            "colorbar": {
             "outlinewidth": 0,
             "ticks": ""
            },
            "colorscale": [
             [
              0,
              "#0d0887"
             ],
             [
              0.1111111111111111,
              "#46039f"
             ],
             [
              0.2222222222222222,
              "#7201a8"
             ],
             [
              0.3333333333333333,
              "#9c179e"
             ],
             [
              0.4444444444444444,
              "#bd3786"
             ],
             [
              0.5555555555555556,
              "#d8576b"
             ],
             [
              0.6666666666666666,
              "#ed7953"
             ],
             [
              0.7777777777777778,
              "#fb9f3a"
             ],
             [
              0.8888888888888888,
              "#fdca26"
             ],
             [
              1,
              "#f0f921"
             ]
            ],
            "type": "heatmapgl"
           }
          ],
          "histogram": [
           {
            "marker": {
             "pattern": {
              "fillmode": "overlay",
              "size": 10,
              "solidity": 0.2
             }
            },
            "type": "histogram"
           }
          ],
          "histogram2d": [
           {
            "colorbar": {
             "outlinewidth": 0,
             "ticks": ""
            },
            "colorscale": [
             [
              0,
              "#0d0887"
             ],
             [
              0.1111111111111111,
              "#46039f"
             ],
             [
              0.2222222222222222,
              "#7201a8"
             ],
             [
              0.3333333333333333,
              "#9c179e"
             ],
             [
              0.4444444444444444,
              "#bd3786"
             ],
             [
              0.5555555555555556,
              "#d8576b"
             ],
             [
              0.6666666666666666,
              "#ed7953"
             ],
             [
              0.7777777777777778,
              "#fb9f3a"
             ],
             [
              0.8888888888888888,
              "#fdca26"
             ],
             [
              1,
              "#f0f921"
             ]
            ],
            "type": "histogram2d"
           }
          ],
          "histogram2dcontour": [
           {
            "colorbar": {
             "outlinewidth": 0,
             "ticks": ""
            },
            "colorscale": [
             [
              0,
              "#0d0887"
             ],
             [
              0.1111111111111111,
              "#46039f"
             ],
             [
              0.2222222222222222,
              "#7201a8"
             ],
             [
              0.3333333333333333,
              "#9c179e"
             ],
             [
              0.4444444444444444,
              "#bd3786"
             ],
             [
              0.5555555555555556,
              "#d8576b"
             ],
             [
              0.6666666666666666,
              "#ed7953"
             ],
             [
              0.7777777777777778,
              "#fb9f3a"
             ],
             [
              0.8888888888888888,
              "#fdca26"
             ],
             [
              1,
              "#f0f921"
             ]
            ],
            "type": "histogram2dcontour"
           }
          ],
          "mesh3d": [
           {
            "colorbar": {
             "outlinewidth": 0,
             "ticks": ""
            },
            "type": "mesh3d"
           }
          ],
          "parcoords": [
           {
            "line": {
             "colorbar": {
              "outlinewidth": 0,
              "ticks": ""
             }
            },
            "type": "parcoords"
           }
          ],
          "pie": [
           {
            "automargin": true,
            "type": "pie"
           }
          ],
          "scatter": [
           {
            "fillpattern": {
             "fillmode": "overlay",
             "size": 10,
             "solidity": 0.2
            },
            "type": "scatter"
           }
          ],
          "scatter3d": [
           {
            "line": {
             "colorbar": {
              "outlinewidth": 0,
              "ticks": ""
             }
            },
            "marker": {
             "colorbar": {
              "outlinewidth": 0,
              "ticks": ""
             }
            },
            "type": "scatter3d"
           }
          ],
          "scattercarpet": [
           {
            "marker": {
             "colorbar": {
              "outlinewidth": 0,
              "ticks": ""
             }
            },
            "type": "scattercarpet"
           }
          ],
          "scattergeo": [
           {
            "marker": {
             "colorbar": {
              "outlinewidth": 0,
              "ticks": ""
             }
            },
            "type": "scattergeo"
           }
          ],
          "scattergl": [
           {
            "marker": {
             "colorbar": {
              "outlinewidth": 0,
              "ticks": ""
             }
            },
            "type": "scattergl"
           }
          ],
          "scattermapbox": [
           {
            "marker": {
             "colorbar": {
              "outlinewidth": 0,
              "ticks": ""
             }
            },
            "type": "scattermapbox"
           }
          ],
          "scatterpolar": [
           {
            "marker": {
             "colorbar": {
              "outlinewidth": 0,
              "ticks": ""
             }
            },
            "type": "scatterpolar"
           }
          ],
          "scatterpolargl": [
           {
            "marker": {
             "colorbar": {
              "outlinewidth": 0,
              "ticks": ""
             }
            },
            "type": "scatterpolargl"
           }
          ],
          "scatterternary": [
           {
            "marker": {
             "colorbar": {
              "outlinewidth": 0,
              "ticks": ""
             }
            },
            "type": "scatterternary"
           }
          ],
          "surface": [
           {
            "colorbar": {
             "outlinewidth": 0,
             "ticks": ""
            },
            "colorscale": [
             [
              0,
              "#0d0887"
             ],
             [
              0.1111111111111111,
              "#46039f"
             ],
             [
              0.2222222222222222,
              "#7201a8"
             ],
             [
              0.3333333333333333,
              "#9c179e"
             ],
             [
              0.4444444444444444,
              "#bd3786"
             ],
             [
              0.5555555555555556,
              "#d8576b"
             ],
             [
              0.6666666666666666,
              "#ed7953"
             ],
             [
              0.7777777777777778,
              "#fb9f3a"
             ],
             [
              0.8888888888888888,
              "#fdca26"
             ],
             [
              1,
              "#f0f921"
             ]
            ],
            "type": "surface"
           }
          ],
          "table": [
           {
            "cells": {
             "fill": {
              "color": "#EBF0F8"
             },
             "line": {
              "color": "white"
             }
            },
            "header": {
             "fill": {
              "color": "#C8D4E3"
             },
             "line": {
              "color": "white"
             }
            },
            "type": "table"
           }
          ]
         },
         "layout": {
          "annotationdefaults": {
           "arrowcolor": "#2a3f5f",
           "arrowhead": 0,
           "arrowwidth": 1
          },
          "autotypenumbers": "strict",
          "coloraxis": {
           "colorbar": {
            "outlinewidth": 0,
            "ticks": ""
           }
          },
          "colorscale": {
           "diverging": [
            [
             0,
             "#8e0152"
            ],
            [
             0.1,
             "#c51b7d"
            ],
            [
             0.2,
             "#de77ae"
            ],
            [
             0.3,
             "#f1b6da"
            ],
            [
             0.4,
             "#fde0ef"
            ],
            [
             0.5,
             "#f7f7f7"
            ],
            [
             0.6,
             "#e6f5d0"
            ],
            [
             0.7,
             "#b8e186"
            ],
            [
             0.8,
             "#7fbc41"
            ],
            [
             0.9,
             "#4d9221"
            ],
            [
             1,
             "#276419"
            ]
           ],
           "sequential": [
            [
             0,
             "#0d0887"
            ],
            [
             0.1111111111111111,
             "#46039f"
            ],
            [
             0.2222222222222222,
             "#7201a8"
            ],
            [
             0.3333333333333333,
             "#9c179e"
            ],
            [
             0.4444444444444444,
             "#bd3786"
            ],
            [
             0.5555555555555556,
             "#d8576b"
            ],
            [
             0.6666666666666666,
             "#ed7953"
            ],
            [
             0.7777777777777778,
             "#fb9f3a"
            ],
            [
             0.8888888888888888,
             "#fdca26"
            ],
            [
             1,
             "#f0f921"
            ]
           ],
           "sequentialminus": [
            [
             0,
             "#0d0887"
            ],
            [
             0.1111111111111111,
             "#46039f"
            ],
            [
             0.2222222222222222,
             "#7201a8"
            ],
            [
             0.3333333333333333,
             "#9c179e"
            ],
            [
             0.4444444444444444,
             "#bd3786"
            ],
            [
             0.5555555555555556,
             "#d8576b"
            ],
            [
             0.6666666666666666,
             "#ed7953"
            ],
            [
             0.7777777777777778,
             "#fb9f3a"
            ],
            [
             0.8888888888888888,
             "#fdca26"
            ],
            [
             1,
             "#f0f921"
            ]
           ]
          },
          "colorway": [
           "#636efa",
           "#EF553B",
           "#00cc96",
           "#ab63fa",
           "#FFA15A",
           "#19d3f3",
           "#FF6692",
           "#B6E880",
           "#FF97FF",
           "#FECB52"
          ],
          "font": {
           "color": "#2a3f5f"
          },
          "geo": {
           "bgcolor": "white",
           "lakecolor": "white",
           "landcolor": "#E5ECF6",
           "showlakes": true,
           "showland": true,
           "subunitcolor": "white"
          },
          "hoverlabel": {
           "align": "left"
          },
          "hovermode": "closest",
          "mapbox": {
           "style": "light"
          },
          "paper_bgcolor": "white",
          "plot_bgcolor": "#E5ECF6",
          "polar": {
           "angularaxis": {
            "gridcolor": "white",
            "linecolor": "white",
            "ticks": ""
           },
           "bgcolor": "#E5ECF6",
           "radialaxis": {
            "gridcolor": "white",
            "linecolor": "white",
            "ticks": ""
           }
          },
          "scene": {
           "xaxis": {
            "backgroundcolor": "#E5ECF6",
            "gridcolor": "white",
            "gridwidth": 2,
            "linecolor": "white",
            "showbackground": true,
            "ticks": "",
            "zerolinecolor": "white"
           },
           "yaxis": {
            "backgroundcolor": "#E5ECF6",
            "gridcolor": "white",
            "gridwidth": 2,
            "linecolor": "white",
            "showbackground": true,
            "ticks": "",
            "zerolinecolor": "white"
           },
           "zaxis": {
            "backgroundcolor": "#E5ECF6",
            "gridcolor": "white",
            "gridwidth": 2,
            "linecolor": "white",
            "showbackground": true,
            "ticks": "",
            "zerolinecolor": "white"
           }
          },
          "shapedefaults": {
           "line": {
            "color": "#2a3f5f"
           }
          },
          "ternary": {
           "aaxis": {
            "gridcolor": "white",
            "linecolor": "white",
            "ticks": ""
           },
           "baxis": {
            "gridcolor": "white",
            "linecolor": "white",
            "ticks": ""
           },
           "bgcolor": "#E5ECF6",
           "caxis": {
            "gridcolor": "white",
            "linecolor": "white",
            "ticks": ""
           }
          },
          "title": {
           "x": 0.05
          },
          "xaxis": {
           "automargin": true,
           "gridcolor": "white",
           "linecolor": "white",
           "ticks": "",
           "title": {
            "standoff": 15
           },
           "zerolinecolor": "white",
           "zerolinewidth": 2
          },
          "yaxis": {
           "automargin": true,
           "gridcolor": "white",
           "linecolor": "white",
           "ticks": "",
           "title": {
            "standoff": 15
           },
           "zerolinecolor": "white",
           "zerolinewidth": 2
          }
         }
        },
        "xaxis": {
         "anchor": "y",
         "domain": [
          0,
          1
         ],
         "title": {
          "text": "reading_time"
         }
        },
        "yaxis": {
         "anchor": "x",
         "domain": [
          0,
          1
         ],
         "title": {
          "text": "claps"
         }
        }
       }
      }
     },
     "metadata": {},
     "output_type": "display_data"
    }
   ],
   "source": [
    "px.bar(df.groupby(\"reading_time\")[\"claps\"].mean().reset_index(), x=\"reading_time\", y=\"claps\")"
   ]
  },
  {
   "cell_type": "code",
   "execution_count": null,
   "metadata": {},
   "outputs": [],
   "source": [
    "# after analyzing the two plots above, I concluded that there isn't a general correlation between the number of claps and reading time\n",
    "# however, there could be a correlation between the two if we consider individual publications. It may also depend from author to author."
   ]
  }
 ],
 "metadata": {
  "kernelspec": {
   "display_name": "Python 3",
   "language": "python",
   "name": "python3"
  },
  "language_info": {
   "codemirror_mode": {
    "name": "ipython",
    "version": 3
   },
   "file_extension": ".py",
   "mimetype": "text/x-python",
   "name": "python",
   "nbconvert_exporter": "python",
   "pygments_lexer": "ipython3",
   "version": "3.11.0"
  },
  "orig_nbformat": 4,
  "vscode": {
   "interpreter": {
    "hash": "aee8b7b246df8f9039afb4144a1f6fd8d2ca17a180786b69acc140d282b71a49"
   }
  }
 },
 "nbformat": 4,
 "nbformat_minor": 2
}
